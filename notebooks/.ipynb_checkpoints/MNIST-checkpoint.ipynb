{
 "cells": [
  {
   "cell_type": "code",
   "execution_count": 7,
   "id": "16ff52f8-c4c4-4f66-8274-0ddaa6105cad",
   "metadata": {},
   "outputs": [
    {
     "name": "stderr",
     "output_type": "stream",
     "text": [
      "\u001b[32m\u001b[1m  Activating\u001b[22m\u001b[39m project at `/data/gpfs/projects/punim0638/stephenz/QROT/notebooks/MNIST`\n"
     ]
    }
   ],
   "source": [
    "using Pkg\n",
    "Pkg.activate(\"MNIST\")"
   ]
  },
  {
   "cell_type": "code",
   "execution_count": 22,
   "id": "942637b7-9dce-4467-88ca-f63ce9cd4ae4",
   "metadata": {},
   "outputs": [
    {
     "ename": "LoadError",
     "evalue": "ArgumentError: Package Plots not found in current path.\n- Run `import Pkg; Pkg.add(\"Plots\")` to install the Plots package.",
     "output_type": "error",
     "traceback": [
      "ArgumentError: Package Plots not found in current path.\n- Run `import Pkg; Pkg.add(\"Plots\")` to install the Plots package.",
      "",
      "Stacktrace:",
      " [1] macro expansion",
      "   @ ./loading.jl:2223 [inlined]",
      " [2] macro expansion",
      "   @ ./lock.jl:273 [inlined]",
      " [3] __require(into::Module, mod::Symbol)",
      "   @ Base ./loading.jl:2198",
      " [4] #invoke_in_world#3",
      "   @ ./essentials.jl:1089 [inlined]",
      " [5] invoke_in_world",
      "   @ ./essentials.jl:1086 [inlined]",
      " [6] require(into::Module, mod::Symbol)",
      "   @ Base ./loading.jl:2191"
     ]
    }
   ],
   "source": [
    "using MLDatasets\n",
    "using Plots\n",
    "X = MNIST();\n",
    "X.features"
   ]
  }
 ],
 "metadata": {
  "kernelspec": {
   "display_name": "Julia 1.11.1",
   "language": "julia",
   "name": "julia-1.11"
  },
  "language_info": {
   "file_extension": ".jl",
   "mimetype": "application/julia",
   "name": "julia",
   "version": "1.11.1"
  }
 },
 "nbformat": 4,
 "nbformat_minor": 5
}
