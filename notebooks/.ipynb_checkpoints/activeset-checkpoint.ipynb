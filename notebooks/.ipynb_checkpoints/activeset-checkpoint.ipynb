{
 "cells": [
  {
   "cell_type": "code",
   "execution_count": 4,
   "id": "eddc7ba5-caa6-463a-b7af-bf58c67eaa26",
   "metadata": {},
   "outputs": [
    {
     "name": "stderr",
     "output_type": "stream",
     "text": [
      "\u001b[32m\u001b[1m  Activating\u001b[22m\u001b[39m project at `/data/gpfs/projects/punim0638/stephenz/qrot/notebooks`\n"
     ]
    },
    {
     "data": {
      "text/plain": [
       "norm_kernel (generic function with 1 method)"
      ]
     },
     "execution_count": 4,
     "metadata": {},
     "output_type": "execute_result"
    }
   ],
   "source": [
    "using Pkg\n",
    "Pkg.activate(\".\")\n",
    "using OptimalTransport\n",
    "using LinearAlgebra\n",
    "using SparseArrays\n",
    "using Distances\n",
    "using StatsBase\n",
    "using NNlib\n",
    "using BenchmarkTools\n",
    "using NearestNeighbors\n",
    "using RandomMatrix\n",
    "using ParallelNeighbors\n",
    "using ProgressMeter\n",
    "\n",
    "include(\"../src/util.jl\")"
   ]
  },
  {
   "cell_type": "code",
   "execution_count": 5,
   "id": "95818216-c8c6-4fbd-81ab-49b64f1c2a98",
   "metadata": {},
   "outputs": [
    {
     "data": {
      "text/plain": [
       "construct_support (generic function with 1 method)"
      ]
     },
     "execution_count": 5,
     "metadata": {},
     "output_type": "execute_result"
    }
   ],
   "source": [
    "function gen_data(N, d)\n",
    "    μ_spt = randn(N, d)\n",
    "    X = μ_spt\n",
    "    μ = ones(N)\n",
    "    C = sum(X.^2 ; dims = 2)/2 .+ sum(X.^2 ; dims = 2)'/2 - X * X'\n",
    "    Cmean = mean(C)\n",
    "    C[diagind(C)] .= Inf\n",
    "    return X, μ, C / Cmean\n",
    "end\n",
    "\n",
    "function knn_adj_parallel(X, k)\n",
    "    indices, _ = ParallelNeighbors.knn(X, X, k);\n",
    "    A = zeros(size(X, 2), size(X, 2));\n",
    "    @inbounds for i = 1:size(A, 1)\n",
    "        A[i, i] = 1; @inbounds for j in indices[i] A[i, j] = 1 end\n",
    "    end\n",
    "    A = sparse(A)\n",
    "end\n",
    "function construct_support(X, k)\n",
    "    # S = knn_adj(X', k);\n",
    "    S = knn_adj_parallel(X', k);\n",
    "    S += sign.(mean([randPermutation(size(X, 1)) for _ in 1:k]));\n",
    "    S += S';\n",
    "    S = sign.(S); \n",
    "    S[diagind(S)] .= 0;\n",
    "    dropzeros!(S);\n",
    "    return S\n",
    "end"
   ]
  },
  {
   "cell_type": "code",
   "execution_count": 6,
   "id": "23a7c85a-9254-41e7-89b4-6283d3e146da",
   "metadata": {},
   "outputs": [
    {
     "data": {
      "text/plain": [
       "100"
      ]
     },
     "execution_count": 6,
     "metadata": {},
     "output_type": "execute_result"
    }
   ],
   "source": [
    "ε = 1.0\n",
    "k = 50\n",
    "N = 10_000\n",
    "d = 100"
   ]
  },
  {
   "cell_type": "code",
   "execution_count": null,
   "id": "4e5552d9-3c66-4057-a331-9a1b0664caa9",
   "metadata": {},
   "outputs": [],
   "source": [
    "X, μ, C = gen_data(N, d);\n",
    "ENV[\"JULIA_DEBUG\"] = \"\"; \n",
    "elapsed_dense = @showprogress [@elapsed sparse(quadreg(μ, C, ε, OptimalTransport.SymmetricQuadraticOTNewton(); maxiter = 100)) for _ in 1:10]\n",
    "elapsed_sparse = @showprogress [@elapsed quadreg(μ, C, ε, OptimalTransport.SymmetricQuadraticOTNewtonAS(construct_support(X, k)); maxiter = 100) for _ in 1:10]"
   ]
  },
  {
   "cell_type": "code",
   "execution_count": 8,
   "id": "55407eb1-2974-4d73-8896-f414f35f328a",
   "metadata": {},
   "outputs": [
    {
     "data": {
      "text/plain": [
       "10-element Vector{Float64}:\n",
       " 79.08055256\n",
       " 77.956411602\n",
       " 76.198541543\n",
       " 76.7541346\n",
       " 76.249853094\n",
       " 79.836221955\n",
       " 77.728582493\n",
       " 76.562115567\n",
       " 79.325001951\n",
       " 88.395609122"
      ]
     },
     "execution_count": 8,
     "metadata": {},
     "output_type": "execute_result"
    }
   ],
   "source": [
    "elapsed_dense"
   ]
  },
  {
   "cell_type": "code",
   "execution_count": 9,
   "id": "4f509622-12f6-43ee-bbe2-237365a33687",
   "metadata": {
    "tags": []
   },
   "outputs": [
    {
     "data": {
      "text/plain": [
       "10-element Vector{Float64}:\n",
       " 18.609266564\n",
       " 13.296809725\n",
       " 15.010748704\n",
       " 14.588107647\n",
       " 15.797307508\n",
       " 15.644214446\n",
       " 14.231254935\n",
       " 17.445514924\n",
       " 12.918317531\n",
       " 12.912251602"
      ]
     },
     "execution_count": 9,
     "metadata": {},
     "output_type": "execute_result"
    }
   ],
   "source": [
    "elapsed_sparse"
   ]
  },
  {
   "cell_type": "code",
   "execution_count": null,
   "id": "f7c5550f-4869-45b9-9e92-135140935821",
   "metadata": {},
   "outputs": [],
   "source": []
  }
 ],
 "metadata": {
  "kernelspec": {
   "display_name": "Julia 1.8.4",
   "language": "julia",
   "name": "julia-1.8"
  },
  "language_info": {
   "file_extension": ".jl",
   "mimetype": "application/julia",
   "name": "julia",
   "version": "1.8.4"
  },
  "widgets": {
   "application/vnd.jupyter.widget-state+json": {
    "state": {},
    "version_major": 2,
    "version_minor": 0
   }
  }
 },
 "nbformat": 4,
 "nbformat_minor": 5
}
